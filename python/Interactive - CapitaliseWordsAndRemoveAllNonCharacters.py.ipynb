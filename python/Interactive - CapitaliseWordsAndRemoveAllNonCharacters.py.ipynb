{
 "cells": [
  {
   "cell_type": "markdown",
   "metadata": {},
   "source": [
    "Connected to Python 3.12.4"
   ]
  },
  {
   "cell_type": "code",
   "execution_count": 1,
   "id": "d99a18d8-960a-4a77-b80e-81714007f76c",
   "metadata": {},
   "outputs": [
    {
     "name": "stdout",
     "output_type": "stream",
     "text": [
      "DishwashingPowderBeatsTabletsOnEcononmicAndEnviromentalImpactsOfWaste\n"
     ]
    }
   ],
   "source": [
    "import re\n",
    "\n",
    "def remove_non_chars(text):\n",
    "    # Capitalize the first letter of each word\n",
    "    capitalized_text = text.title()\n",
    "    # The regex pattern [^a-zA-Z] matches any non-letter character.\n",
    "    pattern = re.compile(r'[^a-zA-Z]')\n",
    "    cleaned_text = re.sub(pattern, '', capitalized_text)\n",
    "    return cleaned_text\n",
    "\n",
    "string = \"Dishwashing Powder beats Tablets On Econonmic And Enviromental Impacts Of Waste\"\n",
    "print(remove_non_chars(string))"
   ]
  }
 ],
 "metadata": {
  "kernelspec": {
   "display_name": "Python 3",
   "language": "python",
   "name": "python3"
  },
  "language_info": {
   "name": "python",
   "version": "3.12.4"
  }
 },
 "nbformat": 4,
 "nbformat_minor": 2
}
